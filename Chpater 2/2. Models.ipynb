{
 "cells": [
  {
   "cell_type": "markdown",
   "metadata": {},
   "source": [
    "Huggingface의 NLP tutorial 공부  \n",
    "- 출처: https://huggingface.co/learn/nlp-course/chapter2/3?fw=pt\n",
    "![huggingface](https://huggingface.co/front/assets/huggingface_logo-noborder.svg)"
   ]
  },
  {
   "cell_type": "markdown",
   "metadata": {
    "id": "hPZA5BU6royU"
   },
   "source": [
    "# Models\n",
    "\n",
    "여기서는 hugging face의 model을 생성하고 사용하는 것을 알아볼 것이다.  \n",
    "여기서 사용하는 클래스는 `AutoModel`로, 어떤 모델이던 checkpoint로부터 초기화해서 사용하기 편한 클래스이다.\n",
    "\n",
    "AutoModel 클래스와 관련된 것들은 이 라이브러리의 사용가능한 다양한 모델들에 덮어씌우기 간단하다.  \n",
    "하지만, 우리가 사용하고 싶은 모델의 타입을 안다면, 우리는 그 모델의 architecture를 정의한 클래스를 사용할 수 있다.  \n",
    "여기서는 AutoModel의 뒤에서 어떠한 일이 일어나는지를 볼 것이다.\n",
    "\n",
    "AutoModel의 과정은\n",
    "1. 모델 불러오기\n",
    "2. 모델에 pre trained weight 덮어씌우기\n",
    "\n",
    "이번 tutorial에서는 BERT모델을 사용할 것이다."
   ]
  },
  {
   "cell_type": "markdown",
   "metadata": {
    "id": "4L_PHslays3a"
   },
   "source": [
    "## 1. Creating a Transformer"
   ]
  },
  {
   "cell_type": "code",
   "execution_count": 4,
   "metadata": {
    "colab": {
     "base_uri": "https://localhost:8080/"
    },
    "executionInfo": {
     "elapsed": 4365,
     "status": "ok",
     "timestamp": 1705296095344,
     "user": {
      "displayName": "Chihyeon Jin",
      "userId": "01748061193938596019"
     },
     "user_tz": -540
    },
    "id": "WvRJ7891yr3a",
    "outputId": "36f20246-4d9f-40f7-f8af-66295c1e0534"
   },
   "outputs": [
    {
     "name": "stdout",
     "output_type": "stream",
     "text": [
      "BertConfig {\n",
      "  \"attention_probs_dropout_prob\": 0.1,\n",
      "  \"classifier_dropout\": null,\n",
      "  \"hidden_act\": \"gelu\",\n",
      "  \"hidden_dropout_prob\": 0.1,\n",
      "  \"hidden_size\": 768,\n",
      "  \"initializer_range\": 0.02,\n",
      "  \"intermediate_size\": 3072,\n",
      "  \"layer_norm_eps\": 1e-12,\n",
      "  \"max_position_embeddings\": 512,\n",
      "  \"model_type\": \"bert\",\n",
      "  \"num_attention_heads\": 12,\n",
      "  \"num_hidden_layers\": 12,\n",
      "  \"pad_token_id\": 0,\n",
      "  \"position_embedding_type\": \"absolute\",\n",
      "  \"transformers_version\": \"4.35.2\",\n",
      "  \"type_vocab_size\": 2,\n",
      "  \"use_cache\": true,\n",
      "  \"vocab_size\": 30522\n",
      "}\n",
      "\n"
     ]
    }
   ],
   "source": [
    "from transformers import BertConfig, BertModel\n",
    "\n",
    "# Bert 설정 구성요소\n",
    "config = BertConfig()\n",
    "print(config)\n",
    "\n",
    "model = BertModel(config)"
   ]
  },
  {
   "cell_type": "markdown",
   "metadata": {
    "id": "qlERbHut18MW"
   },
   "source": [
    "## 2. Different loading methods"
   ]
  },
  {
   "cell_type": "code",
   "execution_count": 5,
   "metadata": {
    "executionInfo": {
     "elapsed": 1660,
     "status": "ok",
     "timestamp": 1705296097001,
     "user": {
      "displayName": "Chihyeon Jin",
      "userId": "01748061193938596019"
     },
     "user_tz": -540
    },
    "id": "1B3xBNGr17QW"
   },
   "outputs": [],
   "source": [
    "from transformers import BertConfig, BertModel\n",
    "\n",
    "config = BertConfig()\n",
    "model = BertModel(config)"
   ]
  },
  {
   "cell_type": "markdown",
   "metadata": {
    "id": "6eaZG_qz2Tyv"
   },
   "source": [
    "위 model 상태는 randomly initiated weight를 가진 BERT이다. 이 상태로도 사용할 수는 있겠지만 output이 말도 안되는, nonsence한 값일 것이다.\n",
    "\n",
    "사용을 위해선 반드시 training을 해야한다. scratch로 우리가 직접 학습을 할 수 있지만, Chapter 1에서 본 것처럼 매우 많은 양의 데이터와 시간을 요구한다.  \n",
    "그리고 무시할 수 없는 환경의 영향도 있다. 이러한 불필요하면서도 반복되는 작업을 피하기 위해, pre-trained model을 공유하고 사용하는 것은 불가피하다.\n",
    "\n",
    "pre-trained model을 불러오자. 이를 위해서는 `from_pretrained` method를 사용한다."
   ]
  },
  {
   "cell_type": "code",
   "execution_count": 6,
   "metadata": {
    "colab": {
     "base_uri": "https://localhost:8080/",
     "height": 213,
     "referenced_widgets": [
      "47b071a96b8240cdbcd55001ee183f8d",
      "2481bd55f583486b85bbafa0c59d3a25",
      "eb9a6fcc2a1e4f2b8f6a200ef16fc94b",
      "dcd7b623ca57414aa2bd5ed8ce2c57fd",
      "ebca8ee3bb714f4aa0aa72283c5ae5b8",
      "9bd3410e05374f4099baf78a0d3002fc",
      "3f67568fd610462b99562851f5e5c7dd",
      "7570d7752466458f97dcd5eabfe18431",
      "499078ac85ed4e129a16e02e5f0e24bd",
      "226dde6d04164b83b3c3f2f737218008",
      "097cd9b3c546465888f022279d131274",
      "0b5a08bcb20b494d9fb6463157e435ed",
      "76f17211dbf54f3898cf51e7f020c0b7",
      "cf776896fed84be296f8c7271713690c",
      "05f17e9a6b9c46aa91c2149518124231",
      "7e409d3f0d8a41f3a3ba341c3e2b5390",
      "c695e90514144b7e8c8757ba8104eb21",
      "f06d22238afd440e8d6b8775f6d229e3",
      "c25fae4831894dc4bbc0742be2a75826",
      "a517bb875cdc4fa0a9072aea3d605264",
      "546db51a89614faca067464617555f48",
      "00b9cc0de5454494b11a62492fb164bf"
     ]
    },
    "executionInfo": {
     "elapsed": 7490,
     "status": "ok",
     "timestamp": 1705296104488,
     "user": {
      "displayName": "Chihyeon Jin",
      "userId": "01748061193938596019"
     },
     "user_tz": -540
    },
    "id": "PoJ7r7M_2K7Z",
    "outputId": "edd6d4e9-d1b2-44b0-87a1-6f2da9600fee"
   },
   "outputs": [
    {
     "name": "stderr",
     "output_type": "stream",
     "text": [
      "/usr/local/lib/python3.10/dist-packages/huggingface_hub/utils/_token.py:88: UserWarning: \n",
      "The secret `HF_TOKEN` does not exist in your Colab secrets.\n",
      "To authenticate with the Hugging Face Hub, create a token in your settings tab (https://huggingface.co/settings/tokens), set it as secret in your Google Colab and restart your session.\n",
      "You will be able to reuse this secret in all of your notebooks.\n",
      "Please note that authentication is recommended but still optional to access public models or datasets.\n",
      "  warnings.warn(\n"
     ]
    },
    {
     "data": {
      "application/vnd.jupyter.widget-view+json": {
       "model_id": "47b071a96b8240cdbcd55001ee183f8d",
       "version_major": 2,
       "version_minor": 0
      },
      "text/plain": [
       "config.json:   0%|          | 0.00/570 [00:00<?, ?B/s]"
      ]
     },
     "metadata": {},
     "output_type": "display_data"
    },
    {
     "data": {
      "application/vnd.jupyter.widget-view+json": {
       "model_id": "0b5a08bcb20b494d9fb6463157e435ed",
       "version_major": 2,
       "version_minor": 0
      },
      "text/plain": [
       "model.safetensors:   0%|          | 0.00/436M [00:00<?, ?B/s]"
      ]
     },
     "metadata": {},
     "output_type": "display_data"
    }
   ],
   "source": [
    "from transformers import BertModel\n",
    "\n",
    "model = BertModel.from_pretrained(\"bert-base-cased\")"
   ]
  },
  {
   "cell_type": "markdown",
   "metadata": {
    "id": "IZfFPfxW3C-3"
   },
   "source": [
    "이 작업은 우리가 이전에 보았던 `AutoModel` class와 동일한 작업이다. 즉, AutoClass로 위 작업을 대체할 수 있다.  \n",
    "이제부터는 체크포인트에 상관없는 코드가 생성되기에, 한 체크포인트에서 작동하는 코드라면 다른 체크포인트에서도 작동한다.  \n",
    "이는 architecture가 다르더라도 similar한 task에 대해서 학습된 것이면 적용될 수 있다고 한다.\n",
    "\n",
    "위 코드에서 우리는 BertConf를 사용하지 않고 `bert-base-cased`를 통해서 pre-trained model을 불러왔다. 이는 BERT 논문 저자에 의해 학습된 모델 체크포인트이다. 더 자세한 것은 [model card](https://huggingface.co/bert-base-cased) 에서 확인할 수 있다.\n",
    "\n",
    "이 모델은 checkpoint의 weight로 initialized 되었다.  \n",
    "이제 이 모델은 학습되었던 task의 추론을 위해 사용이 가능하고, 새로운 task에 대해서 fine tuning역시 할 수 있다.  \n",
    "scratch가 아닌 pre trained weight를 통해 학습함으로써 빠르게 좋은 성능을 달성할 수 있다.\n",
    "\n",
    "weight는 다운받아지고 cash화 되어서 cash folder에 담겨진다.\n",
    "- default는 ~/.cache/huggingface/transformers 이다. cash folder는 우리가 HF_HOME environment 변수를 setting해서 customize할 수 있다.\n",
    "\n",
    "</br>\n",
    "\n",
    "pre-trained model을 불러올 때 사용한 identifier(예: `bert-base-cased`)는 Model Hub의 어떠한 모델이라도 BERT architecture에 호환만 된다면 모델의 identifier가 될 수 있다. \n",
    "- 가능한 BERT checkpoint의 전체 list는 [여기서](https://huggingface.co/models?other=bert) 확인 가능"
   ]
  },
  {
   "cell_type": "markdown",
   "metadata": {
    "id": "3S7HgAjJ3C6Z"
   },
   "source": [
    "## 3. Saving methods\n",
    "\n",
    "모델 저장은 모델 load만큼이나 쉽다. `save_pretrained()`를 사용하면 된다."
   ]
  },
  {
   "cell_type": "code",
   "execution_count": 7,
   "metadata": {
    "executionInfo": {
     "elapsed": 1542,
     "status": "ok",
     "timestamp": 1705296106028,
     "user": {
      "displayName": "Chihyeon Jin",
      "userId": "01748061193938596019"
     },
     "user_tz": -540
    },
    "id": "f986Nk5n2LQ4"
   },
   "outputs": [],
   "source": [
    "model.save_pretrained(\"directory_on_my_computer\")"
   ]
  },
  {
   "cell_type": "code",
   "execution_count": 8,
   "metadata": {
    "colab": {
     "base_uri": "https://localhost:8080/"
    },
    "executionInfo": {
     "elapsed": 11,
     "status": "ok",
     "timestamp": 1705296106029,
     "user": {
      "displayName": "Chihyeon Jin",
      "userId": "01748061193938596019"
     },
     "user_tz": -540
    },
    "id": "wrDoEfAP2LVQ",
    "outputId": "82944736-1049-4eae-a738-b3e50a8ab020"
   },
   "outputs": [
    {
     "name": "stdout",
     "output_type": "stream",
     "text": [
      "config.json  model.safetensors\n"
     ]
    }
   ],
   "source": [
    "!ls directory_on_my_computer"
   ]
  },
  {
   "cell_type": "markdown",
   "metadata": {
    "id": "oqtCL-eO8zK1"
   },
   "source": [
    "`config.json`은 model arcutecture build에 필요한 attributes를 담고있다.   \n",
    "이는 checkpoint가 어디서 왔는지, 마지막 checkpoint에서 사용한 Trasnformers의 버전 무엇인지와 같은 몇몇 metadata도 담고있다.\n",
    "\n",
    "`pytorch_model.bin`은 state dictionary로 알려져있다. 이는 모델의 모든 weights를 담고있다."
   ]
  },
  {
   "cell_type": "markdown",
   "metadata": {
    "id": "RS9ssz7i9WMY"
   },
   "source": [
    "## 4. Inference를 위해 Trasnformer 모델 사용하기\n",
    "\n",
    "이제 어떻게 모델을 load하고 save하는지 배웠다. 이제 실제로 모델을 사용해서 prediction하는 것을 배워보자.  \n",
    "Transformer 모델은 숫자만을 다룰 수 있다. 여기서 숫자는 tokenizer가 만드는 것이다. 하지만 tokenizer를 얘기하지 전에, model의 input부터 보자.\n",
    "\n",
    "Tokenizer는 input을 tensor에 캐스팅(?)할 수 있지만, 어떻게 작동하는지 이해를 하고자 input을 모델로 보내기 전에 어떤 작업이 완료되어야 하는지 볼 것이다."
   ]
  },
  {
   "cell_type": "code",
   "execution_count": 9,
   "metadata": {
    "executionInfo": {
     "elapsed": 7,
     "status": "ok",
     "timestamp": 1705296106029,
     "user": {
      "displayName": "Chihyeon Jin",
      "userId": "01748061193938596019"
     },
     "user_tz": -540
    },
    "id": "68raj3Nk2LdR"
   },
   "outputs": [],
   "source": [
    "sequences = [\"Hello!\", \"Cool\", \"Nice!\"]"
   ]
  },
  {
   "cell_type": "markdown",
   "metadata": {
    "id": "RaxVYVINjduQ"
   },
   "source": [
    "Tokenizer는 이들을 vocabulary indices로 변환한다.  \n",
    "각 sequence는 이제 숫자의 list이다. output은 다음과 같다."
   ]
  },
  {
   "cell_type": "code",
   "execution_count": 10,
   "metadata": {
    "executionInfo": {
     "elapsed": 7,
     "status": "ok",
     "timestamp": 1705296106030,
     "user": {
      "displayName": "Chihyeon Jin",
      "userId": "01748061193938596019"
     },
     "user_tz": -540
    },
    "id": "sa52mLY5jdSR"
   },
   "outputs": [],
   "source": [
    "encoded_sequences = [\n",
    "    [101, 7592, 999, 102],\n",
    "    [101, 4658, 1012, 102],\n",
    "    [101, 3835, 999, 102],\n",
    "]"
   ]
  },
  {
   "cell_type": "code",
   "execution_count": 11,
   "metadata": {
    "colab": {
     "base_uri": "https://localhost:8080/"
    },
    "executionInfo": {
     "elapsed": 7,
     "status": "ok",
     "timestamp": 1705296106030,
     "user": {
      "displayName": "Chihyeon Jin",
      "userId": "01748061193938596019"
     },
     "user_tz": -540
    },
    "id": "CYfT6hRr2Lgg",
    "outputId": "c3623dce-b669-4c17-c2e8-cae13c23aae8"
   },
   "outputs": [
    {
     "data": {
      "text/plain": [
       "tensor([[ 101, 7592,  999,  102],\n",
       "        [ 101, 4658, 1012,  102],\n",
       "        [ 101, 3835,  999,  102]])"
      ]
     },
     "execution_count": 11,
     "metadata": {},
     "output_type": "execute_result"
    }
   ],
   "source": [
    "import torch\n",
    "\n",
    "model_inputs = torch.tensor(encoded_sequences)\n",
    "model_inputs"
   ]
  },
  {
   "cell_type": "markdown",
   "metadata": {
    "id": "0mYE03N7kQfP"
   },
   "source": [
    "## 5. Tensor를 model input으로 사용하기"
   ]
  },
  {
   "cell_type": "code",
   "execution_count": 12,
   "metadata": {
    "executionInfo": {
     "elapsed": 995,
     "status": "ok",
     "timestamp": 1705296107020,
     "user": {
      "displayName": "Chihyeon Jin",
      "userId": "01748061193938596019"
     },
     "user_tz": -540
    },
    "id": "X0UQtw0j2Lj5"
   },
   "outputs": [],
   "source": [
    "output = model(model_inputs)"
   ]
  },
  {
   "cell_type": "code",
   "execution_count": 17,
   "metadata": {
    "colab": {
     "base_uri": "https://localhost:8080/"
    },
    "executionInfo": {
     "elapsed": 4,
     "status": "ok",
     "timestamp": 1705296149675,
     "user": {
      "displayName": "Chihyeon Jin",
      "userId": "01748061193938596019"
     },
     "user_tz": -540
    },
    "id": "esnYduC52LnR",
    "outputId": "fe717324-4d94-4d49-d5ce-84c3babbee0a"
   },
   "outputs": [
    {
     "data": {
      "text/plain": [
       "torch.Size([3, 4, 768])"
      ]
     },
     "execution_count": 17,
     "metadata": {},
     "output_type": "execute_result"
    }
   ],
   "source": [
    "output[0].shape"
   ]
  },
  {
   "cell_type": "code",
   "execution_count": 18,
   "metadata": {
    "colab": {
     "base_uri": "https://localhost:8080/"
    },
    "executionInfo": {
     "elapsed": 3,
     "status": "ok",
     "timestamp": 1705296161760,
     "user": {
      "displayName": "Chihyeon Jin",
      "userId": "01748061193938596019"
     },
     "user_tz": -540
    },
    "id": "WNzLgssyklDR",
    "outputId": "df767c50-a57a-417b-ce27-c9d65428eb3a"
   },
   "outputs": [
    {
     "data": {
      "text/plain": [
       "torch.Size([3, 4])"
      ]
     },
     "execution_count": 18,
     "metadata": {},
     "output_type": "execute_result"
    }
   ],
   "source": [
    "model_inputs.shape"
   ]
  }
 ],
 "metadata": {
  "colab": {
   "authorship_tag": "ABX9TyOOnc57JMWeoVW0gJTWXQ2s",
   "provenance": []
  },
  "kernelspec": {
   "display_name": "Python 3 (ipykernel)",
   "language": "python",
   "name": "python3"
  },
  "language_info": {
   "codemirror_mode": {
    "name": "ipython",
    "version": 3
   },
   "file_extension": ".py",
   "mimetype": "text/x-python",
   "name": "python",
   "nbconvert_exporter": "python",
   "pygments_lexer": "ipython3",
   "version": "3.9.12"
  },
  "widgets": {
   "application/vnd.jupyter.widget-state+json": {
    "00b9cc0de5454494b11a62492fb164bf": {
     "model_module": "@jupyter-widgets/controls",
     "model_module_version": "1.5.0",
     "model_name": "DescriptionStyleModel",
     "state": {
      "_model_module": "@jupyter-widgets/controls",
      "_model_module_version": "1.5.0",
      "_model_name": "DescriptionStyleModel",
      "_view_count": null,
      "_view_module": "@jupyter-widgets/base",
      "_view_module_version": "1.2.0",
      "_view_name": "StyleView",
      "description_width": ""
     }
    },
    "05f17e9a6b9c46aa91c2149518124231": {
     "model_module": "@jupyter-widgets/controls",
     "model_module_version": "1.5.0",
     "model_name": "HTMLModel",
     "state": {
      "_dom_classes": [],
      "_model_module": "@jupyter-widgets/controls",
      "_model_module_version": "1.5.0",
      "_model_name": "HTMLModel",
      "_view_count": null,
      "_view_module": "@jupyter-widgets/controls",
      "_view_module_version": "1.5.0",
      "_view_name": "HTMLView",
      "description": "",
      "description_tooltip": null,
      "layout": "IPY_MODEL_546db51a89614faca067464617555f48",
      "placeholder": "​",
      "style": "IPY_MODEL_00b9cc0de5454494b11a62492fb164bf",
      "value": " 436M/436M [00:03&lt;00:00, 65.7MB/s]"
     }
    },
    "097cd9b3c546465888f022279d131274": {
     "model_module": "@jupyter-widgets/controls",
     "model_module_version": "1.5.0",
     "model_name": "DescriptionStyleModel",
     "state": {
      "_model_module": "@jupyter-widgets/controls",
      "_model_module_version": "1.5.0",
      "_model_name": "DescriptionStyleModel",
      "_view_count": null,
      "_view_module": "@jupyter-widgets/base",
      "_view_module_version": "1.2.0",
      "_view_name": "StyleView",
      "description_width": ""
     }
    },
    "0b5a08bcb20b494d9fb6463157e435ed": {
     "model_module": "@jupyter-widgets/controls",
     "model_module_version": "1.5.0",
     "model_name": "HBoxModel",
     "state": {
      "_dom_classes": [],
      "_model_module": "@jupyter-widgets/controls",
      "_model_module_version": "1.5.0",
      "_model_name": "HBoxModel",
      "_view_count": null,
      "_view_module": "@jupyter-widgets/controls",
      "_view_module_version": "1.5.0",
      "_view_name": "HBoxView",
      "box_style": "",
      "children": [
       "IPY_MODEL_76f17211dbf54f3898cf51e7f020c0b7",
       "IPY_MODEL_cf776896fed84be296f8c7271713690c",
       "IPY_MODEL_05f17e9a6b9c46aa91c2149518124231"
      ],
      "layout": "IPY_MODEL_7e409d3f0d8a41f3a3ba341c3e2b5390"
     }
    },
    "226dde6d04164b83b3c3f2f737218008": {
     "model_module": "@jupyter-widgets/base",
     "model_module_version": "1.2.0",
     "model_name": "LayoutModel",
     "state": {
      "_model_module": "@jupyter-widgets/base",
      "_model_module_version": "1.2.0",
      "_model_name": "LayoutModel",
      "_view_count": null,
      "_view_module": "@jupyter-widgets/base",
      "_view_module_version": "1.2.0",
      "_view_name": "LayoutView",
      "align_content": null,
      "align_items": null,
      "align_self": null,
      "border": null,
      "bottom": null,
      "display": null,
      "flex": null,
      "flex_flow": null,
      "grid_area": null,
      "grid_auto_columns": null,
      "grid_auto_flow": null,
      "grid_auto_rows": null,
      "grid_column": null,
      "grid_gap": null,
      "grid_row": null,
      "grid_template_areas": null,
      "grid_template_columns": null,
      "grid_template_rows": null,
      "height": null,
      "justify_content": null,
      "justify_items": null,
      "left": null,
      "margin": null,
      "max_height": null,
      "max_width": null,
      "min_height": null,
      "min_width": null,
      "object_fit": null,
      "object_position": null,
      "order": null,
      "overflow": null,
      "overflow_x": null,
      "overflow_y": null,
      "padding": null,
      "right": null,
      "top": null,
      "visibility": null,
      "width": null
     }
    },
    "2481bd55f583486b85bbafa0c59d3a25": {
     "model_module": "@jupyter-widgets/controls",
     "model_module_version": "1.5.0",
     "model_name": "HTMLModel",
     "state": {
      "_dom_classes": [],
      "_model_module": "@jupyter-widgets/controls",
      "_model_module_version": "1.5.0",
      "_model_name": "HTMLModel",
      "_view_count": null,
      "_view_module": "@jupyter-widgets/controls",
      "_view_module_version": "1.5.0",
      "_view_name": "HTMLView",
      "description": "",
      "description_tooltip": null,
      "layout": "IPY_MODEL_9bd3410e05374f4099baf78a0d3002fc",
      "placeholder": "​",
      "style": "IPY_MODEL_3f67568fd610462b99562851f5e5c7dd",
      "value": "config.json: 100%"
     }
    },
    "3f67568fd610462b99562851f5e5c7dd": {
     "model_module": "@jupyter-widgets/controls",
     "model_module_version": "1.5.0",
     "model_name": "DescriptionStyleModel",
     "state": {
      "_model_module": "@jupyter-widgets/controls",
      "_model_module_version": "1.5.0",
      "_model_name": "DescriptionStyleModel",
      "_view_count": null,
      "_view_module": "@jupyter-widgets/base",
      "_view_module_version": "1.2.0",
      "_view_name": "StyleView",
      "description_width": ""
     }
    },
    "47b071a96b8240cdbcd55001ee183f8d": {
     "model_module": "@jupyter-widgets/controls",
     "model_module_version": "1.5.0",
     "model_name": "HBoxModel",
     "state": {
      "_dom_classes": [],
      "_model_module": "@jupyter-widgets/controls",
      "_model_module_version": "1.5.0",
      "_model_name": "HBoxModel",
      "_view_count": null,
      "_view_module": "@jupyter-widgets/controls",
      "_view_module_version": "1.5.0",
      "_view_name": "HBoxView",
      "box_style": "",
      "children": [
       "IPY_MODEL_2481bd55f583486b85bbafa0c59d3a25",
       "IPY_MODEL_eb9a6fcc2a1e4f2b8f6a200ef16fc94b",
       "IPY_MODEL_dcd7b623ca57414aa2bd5ed8ce2c57fd"
      ],
      "layout": "IPY_MODEL_ebca8ee3bb714f4aa0aa72283c5ae5b8"
     }
    },
    "499078ac85ed4e129a16e02e5f0e24bd": {
     "model_module": "@jupyter-widgets/controls",
     "model_module_version": "1.5.0",
     "model_name": "ProgressStyleModel",
     "state": {
      "_model_module": "@jupyter-widgets/controls",
      "_model_module_version": "1.5.0",
      "_model_name": "ProgressStyleModel",
      "_view_count": null,
      "_view_module": "@jupyter-widgets/base",
      "_view_module_version": "1.2.0",
      "_view_name": "StyleView",
      "bar_color": null,
      "description_width": ""
     }
    },
    "546db51a89614faca067464617555f48": {
     "model_module": "@jupyter-widgets/base",
     "model_module_version": "1.2.0",
     "model_name": "LayoutModel",
     "state": {
      "_model_module": "@jupyter-widgets/base",
      "_model_module_version": "1.2.0",
      "_model_name": "LayoutModel",
      "_view_count": null,
      "_view_module": "@jupyter-widgets/base",
      "_view_module_version": "1.2.0",
      "_view_name": "LayoutView",
      "align_content": null,
      "align_items": null,
      "align_self": null,
      "border": null,
      "bottom": null,
      "display": null,
      "flex": null,
      "flex_flow": null,
      "grid_area": null,
      "grid_auto_columns": null,
      "grid_auto_flow": null,
      "grid_auto_rows": null,
      "grid_column": null,
      "grid_gap": null,
      "grid_row": null,
      "grid_template_areas": null,
      "grid_template_columns": null,
      "grid_template_rows": null,
      "height": null,
      "justify_content": null,
      "justify_items": null,
      "left": null,
      "margin": null,
      "max_height": null,
      "max_width": null,
      "min_height": null,
      "min_width": null,
      "object_fit": null,
      "object_position": null,
      "order": null,
      "overflow": null,
      "overflow_x": null,
      "overflow_y": null,
      "padding": null,
      "right": null,
      "top": null,
      "visibility": null,
      "width": null
     }
    },
    "7570d7752466458f97dcd5eabfe18431": {
     "model_module": "@jupyter-widgets/base",
     "model_module_version": "1.2.0",
     "model_name": "LayoutModel",
     "state": {
      "_model_module": "@jupyter-widgets/base",
      "_model_module_version": "1.2.0",
      "_model_name": "LayoutModel",
      "_view_count": null,
      "_view_module": "@jupyter-widgets/base",
      "_view_module_version": "1.2.0",
      "_view_name": "LayoutView",
      "align_content": null,
      "align_items": null,
      "align_self": null,
      "border": null,
      "bottom": null,
      "display": null,
      "flex": null,
      "flex_flow": null,
      "grid_area": null,
      "grid_auto_columns": null,
      "grid_auto_flow": null,
      "grid_auto_rows": null,
      "grid_column": null,
      "grid_gap": null,
      "grid_row": null,
      "grid_template_areas": null,
      "grid_template_columns": null,
      "grid_template_rows": null,
      "height": null,
      "justify_content": null,
      "justify_items": null,
      "left": null,
      "margin": null,
      "max_height": null,
      "max_width": null,
      "min_height": null,
      "min_width": null,
      "object_fit": null,
      "object_position": null,
      "order": null,
      "overflow": null,
      "overflow_x": null,
      "overflow_y": null,
      "padding": null,
      "right": null,
      "top": null,
      "visibility": null,
      "width": null
     }
    },
    "76f17211dbf54f3898cf51e7f020c0b7": {
     "model_module": "@jupyter-widgets/controls",
     "model_module_version": "1.5.0",
     "model_name": "HTMLModel",
     "state": {
      "_dom_classes": [],
      "_model_module": "@jupyter-widgets/controls",
      "_model_module_version": "1.5.0",
      "_model_name": "HTMLModel",
      "_view_count": null,
      "_view_module": "@jupyter-widgets/controls",
      "_view_module_version": "1.5.0",
      "_view_name": "HTMLView",
      "description": "",
      "description_tooltip": null,
      "layout": "IPY_MODEL_c695e90514144b7e8c8757ba8104eb21",
      "placeholder": "​",
      "style": "IPY_MODEL_f06d22238afd440e8d6b8775f6d229e3",
      "value": "model.safetensors: 100%"
     }
    },
    "7e409d3f0d8a41f3a3ba341c3e2b5390": {
     "model_module": "@jupyter-widgets/base",
     "model_module_version": "1.2.0",
     "model_name": "LayoutModel",
     "state": {
      "_model_module": "@jupyter-widgets/base",
      "_model_module_version": "1.2.0",
      "_model_name": "LayoutModel",
      "_view_count": null,
      "_view_module": "@jupyter-widgets/base",
      "_view_module_version": "1.2.0",
      "_view_name": "LayoutView",
      "align_content": null,
      "align_items": null,
      "align_self": null,
      "border": null,
      "bottom": null,
      "display": null,
      "flex": null,
      "flex_flow": null,
      "grid_area": null,
      "grid_auto_columns": null,
      "grid_auto_flow": null,
      "grid_auto_rows": null,
      "grid_column": null,
      "grid_gap": null,
      "grid_row": null,
      "grid_template_areas": null,
      "grid_template_columns": null,
      "grid_template_rows": null,
      "height": null,
      "justify_content": null,
      "justify_items": null,
      "left": null,
      "margin": null,
      "max_height": null,
      "max_width": null,
      "min_height": null,
      "min_width": null,
      "object_fit": null,
      "object_position": null,
      "order": null,
      "overflow": null,
      "overflow_x": null,
      "overflow_y": null,
      "padding": null,
      "right": null,
      "top": null,
      "visibility": null,
      "width": null
     }
    },
    "9bd3410e05374f4099baf78a0d3002fc": {
     "model_module": "@jupyter-widgets/base",
     "model_module_version": "1.2.0",
     "model_name": "LayoutModel",
     "state": {
      "_model_module": "@jupyter-widgets/base",
      "_model_module_version": "1.2.0",
      "_model_name": "LayoutModel",
      "_view_count": null,
      "_view_module": "@jupyter-widgets/base",
      "_view_module_version": "1.2.0",
      "_view_name": "LayoutView",
      "align_content": null,
      "align_items": null,
      "align_self": null,
      "border": null,
      "bottom": null,
      "display": null,
      "flex": null,
      "flex_flow": null,
      "grid_area": null,
      "grid_auto_columns": null,
      "grid_auto_flow": null,
      "grid_auto_rows": null,
      "grid_column": null,
      "grid_gap": null,
      "grid_row": null,
      "grid_template_areas": null,
      "grid_template_columns": null,
      "grid_template_rows": null,
      "height": null,
      "justify_content": null,
      "justify_items": null,
      "left": null,
      "margin": null,
      "max_height": null,
      "max_width": null,
      "min_height": null,
      "min_width": null,
      "object_fit": null,
      "object_position": null,
      "order": null,
      "overflow": null,
      "overflow_x": null,
      "overflow_y": null,
      "padding": null,
      "right": null,
      "top": null,
      "visibility": null,
      "width": null
     }
    },
    "a517bb875cdc4fa0a9072aea3d605264": {
     "model_module": "@jupyter-widgets/controls",
     "model_module_version": "1.5.0",
     "model_name": "ProgressStyleModel",
     "state": {
      "_model_module": "@jupyter-widgets/controls",
      "_model_module_version": "1.5.0",
      "_model_name": "ProgressStyleModel",
      "_view_count": null,
      "_view_module": "@jupyter-widgets/base",
      "_view_module_version": "1.2.0",
      "_view_name": "StyleView",
      "bar_color": null,
      "description_width": ""
     }
    },
    "c25fae4831894dc4bbc0742be2a75826": {
     "model_module": "@jupyter-widgets/base",
     "model_module_version": "1.2.0",
     "model_name": "LayoutModel",
     "state": {
      "_model_module": "@jupyter-widgets/base",
      "_model_module_version": "1.2.0",
      "_model_name": "LayoutModel",
      "_view_count": null,
      "_view_module": "@jupyter-widgets/base",
      "_view_module_version": "1.2.0",
      "_view_name": "LayoutView",
      "align_content": null,
      "align_items": null,
      "align_self": null,
      "border": null,
      "bottom": null,
      "display": null,
      "flex": null,
      "flex_flow": null,
      "grid_area": null,
      "grid_auto_columns": null,
      "grid_auto_flow": null,
      "grid_auto_rows": null,
      "grid_column": null,
      "grid_gap": null,
      "grid_row": null,
      "grid_template_areas": null,
      "grid_template_columns": null,
      "grid_template_rows": null,
      "height": null,
      "justify_content": null,
      "justify_items": null,
      "left": null,
      "margin": null,
      "max_height": null,
      "max_width": null,
      "min_height": null,
      "min_width": null,
      "object_fit": null,
      "object_position": null,
      "order": null,
      "overflow": null,
      "overflow_x": null,
      "overflow_y": null,
      "padding": null,
      "right": null,
      "top": null,
      "visibility": null,
      "width": null
     }
    },
    "c695e90514144b7e8c8757ba8104eb21": {
     "model_module": "@jupyter-widgets/base",
     "model_module_version": "1.2.0",
     "model_name": "LayoutModel",
     "state": {
      "_model_module": "@jupyter-widgets/base",
      "_model_module_version": "1.2.0",
      "_model_name": "LayoutModel",
      "_view_count": null,
      "_view_module": "@jupyter-widgets/base",
      "_view_module_version": "1.2.0",
      "_view_name": "LayoutView",
      "align_content": null,
      "align_items": null,
      "align_self": null,
      "border": null,
      "bottom": null,
      "display": null,
      "flex": null,
      "flex_flow": null,
      "grid_area": null,
      "grid_auto_columns": null,
      "grid_auto_flow": null,
      "grid_auto_rows": null,
      "grid_column": null,
      "grid_gap": null,
      "grid_row": null,
      "grid_template_areas": null,
      "grid_template_columns": null,
      "grid_template_rows": null,
      "height": null,
      "justify_content": null,
      "justify_items": null,
      "left": null,
      "margin": null,
      "max_height": null,
      "max_width": null,
      "min_height": null,
      "min_width": null,
      "object_fit": null,
      "object_position": null,
      "order": null,
      "overflow": null,
      "overflow_x": null,
      "overflow_y": null,
      "padding": null,
      "right": null,
      "top": null,
      "visibility": null,
      "width": null
     }
    },
    "cf776896fed84be296f8c7271713690c": {
     "model_module": "@jupyter-widgets/controls",
     "model_module_version": "1.5.0",
     "model_name": "FloatProgressModel",
     "state": {
      "_dom_classes": [],
      "_model_module": "@jupyter-widgets/controls",
      "_model_module_version": "1.5.0",
      "_model_name": "FloatProgressModel",
      "_view_count": null,
      "_view_module": "@jupyter-widgets/controls",
      "_view_module_version": "1.5.0",
      "_view_name": "ProgressView",
      "bar_style": "success",
      "description": "",
      "description_tooltip": null,
      "layout": "IPY_MODEL_c25fae4831894dc4bbc0742be2a75826",
      "max": 435755784,
      "min": 0,
      "orientation": "horizontal",
      "style": "IPY_MODEL_a517bb875cdc4fa0a9072aea3d605264",
      "value": 435755784
     }
    },
    "dcd7b623ca57414aa2bd5ed8ce2c57fd": {
     "model_module": "@jupyter-widgets/controls",
     "model_module_version": "1.5.0",
     "model_name": "HTMLModel",
     "state": {
      "_dom_classes": [],
      "_model_module": "@jupyter-widgets/controls",
      "_model_module_version": "1.5.0",
      "_model_name": "HTMLModel",
      "_view_count": null,
      "_view_module": "@jupyter-widgets/controls",
      "_view_module_version": "1.5.0",
      "_view_name": "HTMLView",
      "description": "",
      "description_tooltip": null,
      "layout": "IPY_MODEL_226dde6d04164b83b3c3f2f737218008",
      "placeholder": "​",
      "style": "IPY_MODEL_097cd9b3c546465888f022279d131274",
      "value": " 570/570 [00:00&lt;00:00, 31.3kB/s]"
     }
    },
    "eb9a6fcc2a1e4f2b8f6a200ef16fc94b": {
     "model_module": "@jupyter-widgets/controls",
     "model_module_version": "1.5.0",
     "model_name": "FloatProgressModel",
     "state": {
      "_dom_classes": [],
      "_model_module": "@jupyter-widgets/controls",
      "_model_module_version": "1.5.0",
      "_model_name": "FloatProgressModel",
      "_view_count": null,
      "_view_module": "@jupyter-widgets/controls",
      "_view_module_version": "1.5.0",
      "_view_name": "ProgressView",
      "bar_style": "success",
      "description": "",
      "description_tooltip": null,
      "layout": "IPY_MODEL_7570d7752466458f97dcd5eabfe18431",
      "max": 570,
      "min": 0,
      "orientation": "horizontal",
      "style": "IPY_MODEL_499078ac85ed4e129a16e02e5f0e24bd",
      "value": 570
     }
    },
    "ebca8ee3bb714f4aa0aa72283c5ae5b8": {
     "model_module": "@jupyter-widgets/base",
     "model_module_version": "1.2.0",
     "model_name": "LayoutModel",
     "state": {
      "_model_module": "@jupyter-widgets/base",
      "_model_module_version": "1.2.0",
      "_model_name": "LayoutModel",
      "_view_count": null,
      "_view_module": "@jupyter-widgets/base",
      "_view_module_version": "1.2.0",
      "_view_name": "LayoutView",
      "align_content": null,
      "align_items": null,
      "align_self": null,
      "border": null,
      "bottom": null,
      "display": null,
      "flex": null,
      "flex_flow": null,
      "grid_area": null,
      "grid_auto_columns": null,
      "grid_auto_flow": null,
      "grid_auto_rows": null,
      "grid_column": null,
      "grid_gap": null,
      "grid_row": null,
      "grid_template_areas": null,
      "grid_template_columns": null,
      "grid_template_rows": null,
      "height": null,
      "justify_content": null,
      "justify_items": null,
      "left": null,
      "margin": null,
      "max_height": null,
      "max_width": null,
      "min_height": null,
      "min_width": null,
      "object_fit": null,
      "object_position": null,
      "order": null,
      "overflow": null,
      "overflow_x": null,
      "overflow_y": null,
      "padding": null,
      "right": null,
      "top": null,
      "visibility": null,
      "width": null
     }
    },
    "f06d22238afd440e8d6b8775f6d229e3": {
     "model_module": "@jupyter-widgets/controls",
     "model_module_version": "1.5.0",
     "model_name": "DescriptionStyleModel",
     "state": {
      "_model_module": "@jupyter-widgets/controls",
      "_model_module_version": "1.5.0",
      "_model_name": "DescriptionStyleModel",
      "_view_count": null,
      "_view_module": "@jupyter-widgets/base",
      "_view_module_version": "1.2.0",
      "_view_name": "StyleView",
      "description_width": ""
     }
    }
   }
  }
 },
 "nbformat": 4,
 "nbformat_minor": 4
}
